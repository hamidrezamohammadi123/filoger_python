{
 "cells": [
  {
   "cell_type": "markdown",
   "id": "ead54e1a",
   "metadata": {},
   "source": [
    "<div style=\"color: white;padding-top:18px;text-align:center;background-color:#610C9F;border-radius:15px;border: 1px solid white;\"> \n",
    "    <h3>Exercise 13 (score:300+300\n",
    "    )</h3>\n",
    "</div>"
   ]
  },
  {
   "cell_type": "markdown",
   "id": "9986a78d",
   "metadata": {},
   "source": [
    "<div style=\"color: white;padding-top:18px;text-align:left;background-color:#940B92;border-radius:15px;border: 1px solid white;\"> \n",
    "    <h4>Question 01 (OOP Introduction)(100):</h4>\n",
    "    <p> Create a Class Book\n",
    "</p>\n",
    "<p>Attributes: Should include title, author, and publication_year.</p>\n",
    "<p>Method: get_book_info(), which prints out the book's details.</p>\n",
    "</div>"
   ]
  },
  {
   "cell_type": "code",
   "execution_count": 4,
   "id": "7710ae23",
   "metadata": {},
   "outputs": [
    {
     "name": "stdout",
     "output_type": "stream",
     "text": [
      "Title :Python,  Auther :Guido van Rossum,  Publicaton year:1991 \n"
     ]
    }
   ],
   "source": [
    "# write code here:\n",
    "class Book:\n",
    "    def __init__(self,title,auther,publication_year):\n",
    "        self.title=title\n",
    "        self.auther=auther\n",
    "        self.publivation_year=publication_year\n",
    "\n",
    "    def get_book_info(self):\n",
    "        print(f\"Title :{self.title},  Auther :{self.auther},  Publicaton year:{self.publivation_year} \")\n",
    "\n",
    "bk1=Book(\"Python\", \"Guido van Rossum\",1991)   \n",
    "bk1.get_book_info()\n"
   ]
  },
  {
   "cell_type": "markdown",
   "id": "488e01d2",
   "metadata": {},
   "source": [
    "<div style=\"color: white;padding-top:18px;text-align:left;background-color:#940B92;border-radius:15px;border: 1px solid white;\"> \n",
    "    <h4>Question 02 (OOP Introduction)(100)</h4>\n",
    "<p> Create a Class Calculator</p>\n",
    "<p>Methods: Should include at least add(x, y), subtract(x, y), multiply(x, y), \n",
    "and divide(x, y). Each method performs the respective operation and \n",
    "returns the result.</p>"
   ]
  },
  {
   "cell_type": "code",
   "execution_count": 32,
   "id": "0d6db2ad",
   "metadata": {},
   "outputs": [
    {
     "name": "stdout",
     "output_type": "stream",
     "text": [
      "َAdd     :  5+7= 12\n",
      "َSubtract:  5-7= 12\n",
      "َMultiply:  5*7= 35\n",
      "َDivide  :  5/7= 0.7142857142857143\n",
      "Division by zero is not possibe\n"
     ]
    }
   ],
   "source": [
    "# write code here:\n",
    "class Calculator:\n",
    "    def add(self,x,y):\n",
    "        return(x+y)\n",
    "    \n",
    "    def subtract(self,x,y):\n",
    "        return(x+y)\n",
    "    \n",
    "    def multiply(self,x,y):\n",
    "        return(x*y)\n",
    "    \n",
    "\n",
    "        \n",
    "    def divide(self,x,y):\n",
    "        try:\n",
    "            return(x/y)\n",
    "        except ZeroDivisionError as e:\n",
    "            return(None)\n",
    "   \n",
    "        \n",
    "\n",
    "m=Calculator()                   # create \n",
    "x=5\n",
    "y=7\n",
    "result=m.add(x,y)                # add \n",
    "print(f\"َAdd     :  {x}+{y}= {result}\")\n",
    "\n",
    "result=m.subtract(x,y)           # subtract\n",
    "print(f\"َSubtract:  {x}-{y}= {result}\")\n",
    "\n",
    "result=m.multiply(x,y)           # multiply \n",
    "print(f\"َMultiply:  {x}*{y}= {result}\")\n",
    "\n",
    "result=m.divide(x,y)            # divide \n",
    "if not result :\n",
    "    print(\"Division by zero is not possibe\")  \n",
    "else:\n",
    "    print(f\"َDivide  :  {x}/{y}= {result}\")\n",
    "\n",
    "y=0\n",
    "result=m.divide(x,y)             # Division by zero\n",
    "if not result :\n",
    "    print(\"Division by zero is not possibe\")  \n",
    "else:\n",
    "    print(f\"َDivide:    {x}/{y}= {result}\")\n"
   ]
  },
  {
   "cell_type": "markdown",
   "id": "021be85c",
   "metadata": {},
   "source": [
    "<div style=\"color: white;padding-top:18px;text-align:left;background-color:#940B92;border-radius:15px;border: 1px solid white;\"> \n",
    "    <h4>Question 03 (OOP Introduction)(100)</h4>\n",
    "<p><b>Class Counter</b></p>\n",
    "<p>Attribute: count, initially set to zero.</p>\n",
    "<p>Methods:</p>\n",
    " <p>increment(): Increments count by 1.</p>\n",
    " <p>decrement(): Decrements count by 1, but never below zero.</p>\n",
    " <p>reset(): Resets count to zero.</p>\n",
    " <p>get_count(): Returns the current value of count</p>\n",
    "</div>"
   ]
  },
  {
   "cell_type": "code",
   "execution_count": 39,
   "id": "32b3c29d",
   "metadata": {},
   "outputs": [
    {
     "name": "stdout",
     "output_type": "stream",
     "text": [
      "Value Of count is:0\n",
      "Value Of count is:1\n",
      "Value Of count is:0\n",
      "Error\n",
      "Value Of count is:0\n"
     ]
    }
   ],
   "source": [
    "# write code here:\n",
    "class Counter:\n",
    "    def  __init__(self):        #initialy to zero\n",
    "        self.count=0           \n",
    "\n",
    "    def increment(self):  #increment count by 1\n",
    "        self.count+=1\n",
    "\n",
    "    def decrement(self):  #decrement count by 1  , never below ziro\n",
    "        if self.count>0:\n",
    "            self.count-=1\n",
    "        else:\n",
    "            print(\"Error\")\n",
    "\n",
    "    def reset(self):             #reset count to zero\n",
    "        self.count=0 \n",
    "\n",
    "    def get_count(self):\n",
    "        print(f\"Value Of count is:{self.count}\")\n",
    "    \n",
    "\n",
    "\n",
    "c1=Counter()             #  create c1 and set to 0\n",
    "c1.get_count()\n",
    "c1.increment()           #  increment  c1   c1.count=1\n",
    "c1.get_count()\n",
    "c1.decrement()           #  decrement  c1   c1.count=0\n",
    "c1.get_count()\n",
    "c1.decrement()           #  decrement  c1   error \n",
    "c1.get_count()"
   ]
  },
  {
   "cell_type": "markdown",
   "id": "0e2c870c",
   "metadata": {},
   "source": [
    "<div style=\"color: white;padding-top:18px;text-align:center;background-color:#610C9F;border-radius:15px;border: 1px solid white;\"> \n",
    "    <h3>Exercise 14 (score:300)</h3>\n",
    "</div>"
   ]
  },
  {
   "cell_type": "markdown",
   "id": "98cda4ff",
   "metadata": {},
   "source": [
    "<div style=\"color: white;padding-top:18px;text-align:left;background-color:#940B92;border-radius:15px;border: 1px solid white;\"> \n",
    "    <h4>Question 01 (OOP TODO List)(300)</h4>\n",
    "<p>\n",
    "Create two Python classes: Task, with attributes for ID, title, and status, \n",
    "and TodoList, which manages a collection of Task objects. Include basic \n",
    "methods in Task for status updates and in TodoList for adding, \n",
    "removing, and displaying tasks.\n",
    "</div>"
   ]
  },
  {
   "cell_type": "code",
   "execution_count": 2,
   "id": "e3856ce6",
   "metadata": {},
   "outputs": [
    {
     "name": "stdout",
     "output_type": "stream",
     "text": [
      "Walking in the park added to  My ToDolist!\n",
      "having breakfast added to  My ToDolist!\n",
      "Going to work added to  My ToDolist!\n",
      "Walking in the park was  done!\n",
      "having breakfast was  done!\n",
      "task was  removed!\n",
      "-------------   Display Tasks  --------------\n",
      "Walking in the park was  done!\n",
      "Going to work was not  done!\n"
     ]
    }
   ],
   "source": [
    "#-------------------------------   class Task    -----------------------------\n",
    "class Task:\n",
    "    def __init__(self,ID,title,status):\n",
    "        self.ID=ID\n",
    "        self.title=title\n",
    "        self.status=status\n",
    "    def __str__(self):\n",
    "        return f\"ID:{self.ID}, title:{self.title}, status:{self.status}\"\n",
    "\n",
    "#-------------------------------  calss Todolist  -----------------------------\n",
    "class Todolist:\n",
    "    def __init__(self):\n",
    "        self.tasks={}  \n",
    "\n",
    "    def create_task(self,ID,title,status):\n",
    "        new_task=Task(ID,title,status)\n",
    "        return new_task                     \n",
    "\n",
    "    def add_task(self,task):\n",
    "        if task.ID not in self.tasks:\n",
    "            self.tasks[task.ID]=task\n",
    "            print(f\"{task.title} added to  My ToDolist!\")\n",
    "        else:\n",
    "            print(\"Exists!\")\n",
    "\n",
    "    def do_task(self, ID):\n",
    "        if ID in self.tasks:\n",
    "            self.tasks[ID].status =True\n",
    "            print(f\"{self.tasks[ID].title} was  done!\")\n",
    "        else:\n",
    "            print(\"Task not found!\")\n",
    "\n",
    "    def remove_task(self, ID):\n",
    "        if ID in self.tasks:\n",
    "            del self.tasks[ID]\n",
    "            print(\"task was  removed!\")\n",
    "        else:\n",
    "            print(\"task not found!\")\n",
    "\n",
    "    def displays(self):\n",
    "        print(\"-------------   Display Tasks  --------------\")\n",
    "        for task in self.tasks.values():\n",
    "            if task.status:\n",
    "                print(f\"{task.title} was  done!\")\n",
    "            else:\n",
    "                print(f\"{task.title} was not  done!\")\n",
    "      \n",
    "\n",
    "td=Todolist()\n",
    "\n",
    "task1 = td.create_task(\"1\",\"Walking in the park\",False)\n",
    "td.add_task(task1)\n",
    "\n",
    "task2 = td.create_task(\"2\",\"having breakfast\",False)\n",
    "td.add_task(task2)\n",
    "\n",
    "task3 = td.create_task(\"3\",\"Going to work\",False)\n",
    "td.add_task(task3)\n",
    "\n",
    "td.do_task(\"1\")\n",
    "td.do_task(\"2\")\n",
    "td.remove_task(\"2\")\n",
    "td.displays()\n"
   ]
  }
 ],
 "metadata": {
  "kernelspec": {
   "display_name": "Python 3 (ipykernel)",
   "language": "python",
   "name": "python3"
  },
  "language_info": {
   "codemirror_mode": {
    "name": "ipython",
    "version": 3
   },
   "file_extension": ".py",
   "mimetype": "text/x-python",
   "name": "python",
   "nbconvert_exporter": "python",
   "pygments_lexer": "ipython3",
   "version": "3.9.7"
  }
 },
 "nbformat": 4,
 "nbformat_minor": 5
}
